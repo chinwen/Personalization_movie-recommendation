{
 "cells": [
  {
   "cell_type": "markdown",
   "metadata": {},
   "source": [
    "# Movie recommendation system \n",
    "-------------------\n",
    "MovieLens 1M Dataset: 1 million ratings from 6000 users on 4000 movies. <br>\n",
    "https://grouplens.org/datasets/movielens/1m/\n",
    "\n",
    "-----------\n",
    "### LSH Cosine (sim hash) <br>\n",
    "\n",
    "#### Cosine similarity: <br>\n",
    "$\n",
    "\\text{cosine_sim}(u, v) = \\frac{\n",
    "\\sum\\limits_{i \\in I_{uv}} r_{ui} \\cdot r_{vi}}\n",
    "{\\sqrt{\\sum\\limits_{i \\in I_{uv}} r_{ui}^2} \\cdot\n",
    "\\sqrt{\\sum\\limits_{i \\in I_{uv}} r_{vi}^2}\n",
    "}\n",
    "$\n",
    "\n",
    "#### Accuracy Metric: <br>\n",
    "RMSE (Root Mean Squared Error) \n",
    "\n",
    "#### KNN Basic: <br>\n",
    "$\\hat{r}_{ui}$ : Predicted rating of user u for item i <br>\n",
    "User Based: <br>\n",
    "$ \\hat{r}_{ui} = \\frac{\n",
    "\\sum\\limits_{v \\in N^k_i(u)} \\text{sim}(u, v) \\cdot r_{vi}}\n",
    "{\\sum\\limits_{v \\in N^k_i(u)} \\text{sim}(u, v)} $\n"
   ]
  },
  {
   "cell_type": "code",
   "execution_count": 1,
   "metadata": {
    "collapsed": true
   },
   "outputs": [],
   "source": [
    "import pandas as pd\n",
    "import numpy as np\n",
    "import scipy as sp"
   ]
  },
  {
   "cell_type": "markdown",
   "metadata": {},
   "source": [
    "## Pre-processing"
   ]
  },
  {
   "cell_type": "code",
   "execution_count": 2,
   "metadata": {
    "collapsed": true
   },
   "outputs": [],
   "source": [
    "users = {}\n",
    "movies = set()\n",
    "with open(\"ratings.dat\", 'r') as f:\n",
    "    lines = f.readlines()\n",
    "    np.random.shuffle(lines)\n",
    "    test_lines = lines[:20000] # training dataset\n",
    "    lines = lines[20000:] # test dataset\n",
    "    for line in lines:\n",
    "        u, m, r, t = line.split('::')\n",
    "        if int(u) not in users:\n",
    "            users[int(u)] = []\n",
    "        users[int(u)].append((int(m), float(r)))\n",
    "        movies.add(int(m))"
   ]
  },
  {
   "cell_type": "code",
   "execution_count": 5,
   "metadata": {
    "collapsed": true
   },
   "outputs": [],
   "source": [
    "# mapping movie to new index starting from 0\n",
    "new_movies = {}\n",
    "for i, m in enumerate(movies):\n",
    "    new_movies[int(m)] = i"
   ]
  },
  {
   "cell_type": "code",
   "execution_count": 51,
   "metadata": {
    "collapsed": true
   },
   "outputs": [],
   "source": [
    "# create sparse matrix of users and movies with ratings\n",
    "num_users = len(users.keys())\n",
    "rating_matrix = np.empty(num_users, dtype=np.object)\n",
    "\n",
    "for user in users:\n",
    "    rating_matrix[user-1] = np.zeros(len(users[user]), dtype=\"int, float\")\n",
    "    i = 0\n",
    "    for m, r in sorted(users[user],key=lambda x:x[0]):\n",
    "        nm = new_movies[m]\n",
    "        rating_matrix[user-1][i] = (nm,r)\n",
    "        i += 1"
   ]
  },
  {
   "cell_type": "code",
   "execution_count": 12,
   "metadata": {
    "collapsed": true
   },
   "outputs": [],
   "source": [
    "# create random vectors \n",
    "num_movies = len(movies)\n",
    "rv_list = []\n",
    "\n",
    "b=6 # number of bands\n",
    "r=8 # number of tables\n",
    "\n",
    "for i in range(b*r):\n",
    "    random_vector = np.random.normal(size=num_movies)\n",
    "    for j in range(len(random_vector)):\n",
    "        if random_vector[j]<0:\n",
    "            random_vector[j]=-1\n",
    "        else:\n",
    "            random_vector[j]=1\n",
    "    rv_list.append(random_vector)"
   ]
  },
  {
   "cell_type": "code",
   "execution_count": 13,
   "metadata": {
    "collapsed": true
   },
   "outputs": [],
   "source": [
    "# create hash string table of users\n",
    "hash_string = {}\n",
    "user_ind = 1\n",
    "for u in rating_matrix:\n",
    "    hash_string[user_ind] = \"\"\n",
    "    for i in range(b*r):\n",
    "        s = 0\n",
    "        for mv, rt in u:\n",
    "            s += rt*rv_list[i][mv]\n",
    "        if s<=0:\n",
    "            hash_string[user_ind] += \"0\"\n",
    "        else:\n",
    "            hash_string[user_ind] += \"1\"\n",
    "    user_ind +=1"
   ]
  },
  {
   "cell_type": "code",
   "execution_count": 15,
   "metadata": {
    "collapsed": true
   },
   "outputs": [],
   "source": [
    "# convert hash string to r times (number of tables) of bands in integer for each user\n",
    "band = {}\n",
    "for h in hash_string:\n",
    "    s = 0\n",
    "    e = b\n",
    "    band[h] = []\n",
    "    for i in range(r):\n",
    "        band[h].append(int(hash_string[h][s:e],2))\n",
    "        s += b\n",
    "        e += b"
   ]
  },
  {
   "cell_type": "code",
   "execution_count": 17,
   "metadata": {
    "collapsed": true
   },
   "outputs": [],
   "source": [
    "# find each user's neighbors in each table\n",
    "table = {}\n",
    "for u in band:\n",
    "    for i, t in enumerate(band[u]):\n",
    "        if i not in table:\n",
    "            table[i] = {}\n",
    "        if t not in table[i]:\n",
    "            table[i][t] = []\n",
    "        table[i][t].append(u)"
   ]
  },
  {
   "cell_type": "code",
   "execution_count": 20,
   "metadata": {
    "collapsed": true
   },
   "outputs": [],
   "source": [
    "# find each user's neighbors\n",
    "neighbors = {}\n",
    "for user in users.keys():\n",
    "    neighbors[user] = set()\n",
    "\n",
    "for t in table:\n",
    "    for b in table[t]:\n",
    "        for user in table[t][b]:\n",
    "            neighbors[user].update(table[t][b])"
   ]
  },
  {
   "cell_type": "markdown",
   "metadata": {},
   "source": [
    "## Training"
   ]
  },
  {
   "cell_type": "code",
   "execution_count": 23,
   "metadata": {
    "collapsed": true
   },
   "outputs": [],
   "source": [
    "def cosine(a,b):\n",
    "    i = 0\n",
    "    j = 0\n",
    "    s = 0\n",
    "    p = 0\n",
    "    q = 0\n",
    "    while i<len(a) and j<len(b):\n",
    "        if int(a[i][0])==int(b[j][0]):\n",
    "            p+=(a[i][1]**2)\n",
    "            q+=(b[j][1]**2)\n",
    "            s+=(a[i][1]*b[j][1])\n",
    "            i+=1\n",
    "            j+=1\n",
    "        elif int(a[i][0])>int(b[j][0]):\n",
    "            j+=1\n",
    "        else:\n",
    "            i+=1\n",
    "    if p==0 or q==0:\n",
    "        return 0.0\n",
    "    return s*1.0/(p**0.5 * q**0.5)"
   ]
  },
  {
   "cell_type": "code",
   "execution_count": 24,
   "metadata": {
    "collapsed": true
   },
   "outputs": [],
   "source": [
    "# calculate cosine similarity bewteen each neighbor and the user\n",
    "cosine_neighbors = {}\n",
    "\n",
    "for user in users.keys():\n",
    "    cosine_neighbors[user] = []\n",
    "\n",
    "for user in neighbors:\n",
    "    for neighbor in neighbors[user]:\n",
    "        cosine_neighbors[user].append((neighbor,cosine(rating_matrix[user-1], rating_matrix[neighbor-1])))\n",
    "    cosine_neighbors[user] = sorted(cosine_neighbors[user], key=lambda x: x[1], reverse=True)"
   ]
  },
  {
   "cell_type": "markdown",
   "metadata": {},
   "source": [
    "## Test"
   ]
  },
  {
   "cell_type": "code",
   "execution_count": 35,
   "metadata": {
    "collapsed": true
   },
   "outputs": [],
   "source": [
    "def checkRating(user, movie):\n",
    "    for m, r in rating_matrix[user]:\n",
    "        if m == movie:\n",
    "            return r\n",
    "    return 0"
   ]
  },
  {
   "cell_type": "code",
   "execution_count": 54,
   "metadata": {
    "collapsed": true
   },
   "outputs": [
    {
     "name": "stdout",
     "output_type": "stream",
     "text": [
      "(1000, ' out of 20000 done')\n",
      "(2000, ' out of 20000 done')\n",
      "(3000, ' out of 20000 done')\n",
      "(4000, ' out of 20000 done')\n",
      "(5000, ' out of 20000 done')\n",
      "(6000, ' out of 20000 done')\n",
      "(7000, ' out of 20000 done')\n",
      "(8000, ' out of 20000 done')\n",
      "(9000, ' out of 20000 done')\n",
      "(10000, ' out of 20000 done')\n",
      "(11000, ' out of 20000 done')\n",
      "(12000, ' out of 20000 done')\n",
      "(13000, ' out of 20000 done')\n",
      "(14000, ' out of 20000 done')\n",
      "(15000, ' out of 20000 done')\n",
      "(16000, ' out of 20000 done')\n",
      "(17000, ' out of 20000 done')\n",
      "(18000, ' out of 20000 done')\n",
      "(19000, ' out of 20000 done')\n",
      "(20000, ' out of 20000 done')\n"
     ]
    }
   ],
   "source": [
    "# calculate ratings of each movie (the average ratings of the neighbors who rated this movie) \n",
    "# for each user in test dataset\n",
    "\n",
    "actual_value = []\n",
    "prediction = []\n",
    "c = 0\n",
    "for tl in test_lines[:20000]:\n",
    "    u, m, r, t = tl.split('::')\n",
    "    num = 0\n",
    "    den = 0\n",
    "    k = 0\n",
    "    for n, sim in cosine_neighbors[int(u)]:\n",
    "        if k == 20:\n",
    "            break\n",
    "        nr = checkRating(n-1, int(m))\n",
    "        if nr:\n",
    "            num += nr*sim\n",
    "            den += sim\n",
    "            k += 1\n",
    "    c+=1\n",
    "    if c%1000==0:\n",
    "        print(c,\" out of 20000 done\")\n",
    "    if k>0 and den>0:\n",
    "        p = num/den\n",
    "        prediction.append(p)\n",
    "        actual_value.append(r)\n",
    "    else:\n",
    "        me = 0\n",
    "        t = 0\n",
    "        for m,r in rating_matrix[int(u)-1]:\n",
    "            me+=r\n",
    "            t+=1\n",
    "        prediction.append(me*1.0/t)\n",
    "        actual_value.append(r)"
   ]
  },
  {
   "cell_type": "code",
   "execution_count": 71,
   "metadata": {},
   "outputs": [
    {
     "data": {
      "text/plain": [
       "1.2955390181119637"
      ]
     },
     "execution_count": 71,
     "metadata": {},
     "output_type": "execute_result"
    }
   ],
   "source": [
    "# RMSE\n",
    "np.sqrt(np.mean((np.array(prediction) - np.array(actual_value, dtype=np.float))**2))"
   ]
  }
 ],
 "metadata": {
  "kernelspec": {
   "display_name": "Python 2",
   "language": "python",
   "name": "python2"
  },
  "language_info": {
   "codemirror_mode": {
    "name": "ipython",
    "version": 2
   },
   "file_extension": ".py",
   "mimetype": "text/x-python",
   "name": "python",
   "nbconvert_exporter": "python",
   "pygments_lexer": "ipython2",
   "version": "2.7.13"
  }
 },
 "nbformat": 4,
 "nbformat_minor": 2
}
